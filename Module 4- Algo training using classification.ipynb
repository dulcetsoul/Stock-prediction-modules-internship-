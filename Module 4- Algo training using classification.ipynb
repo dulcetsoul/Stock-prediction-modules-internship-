{
 "cells": [
  {
   "cell_type": "code",
   "execution_count": 50,
   "metadata": {},
   "outputs": [
    {
     "name": "stdout",
     "output_type": "stream",
     "text": [
      "             precision    recall  f1-score   support\n",
      "\n",
      "        Buy       1.00      0.62      0.77         8\n",
      "   Hold Buy       0.94      1.00      0.97        49\n",
      " Hold Short       1.00      1.00      1.00        36\n",
      "      Short       1.00      1.00      1.00         4\n",
      "\n",
      "avg / total       0.97      0.97      0.97        97\n",
      "\n"
     ]
    }
   ],
   "source": [
    "import pandas as pd\n",
    "import numpy as np\n",
    "from sklearn.linear_model import LogisticRegression\n",
    "from sklearn.model_selection import train_test_split\n",
    "from sklearn.metrics import mean_squared_error\n",
    "from sklearn.metrics import classification_report\n",
    "from sklearn import metrics\n",
    "import matplotlib.pyplot as plt\n",
    "import warnings\n",
    "warnings.filterwarnings('ignore')\n",
    "%matplotlib inline\n",
    "df = pd.read_csv(\"Raymondu.csv\")\n",
    "df.loc[(df[\"Close Price\"] < df[\"Lower Bollinger\"]),\"Call\"] = \"Buy\"\n",
    "df.loc[(df[\"Close Price\"] > df[\"Lower Bollinger\"]) & (df[\"Close Price\"] < df[\"Middle Bollinger\"]),\"Call\"] = \"Hold Buy\"\n",
    "df.loc[(df[\"Close Price\"] > df[\"Middle Bollinger\"]) & (df[\"Close Price\"] < df[\"Upper Bollinger\"]),\"Call\"] = \"Hold Short\"\n",
    "df.loc[(df[\"Close Price\"] > df[\"Upper Bollinger\"]),\"Call\"] = \"Short\"\n",
    "X = df[[\"Close Price\",\"Lower Bollinger\",\"Middle Bollinger\",\"Upper Bollinger\"]]\n",
    "y = df[\"Call\"]\n",
    "# logistic regression\n",
    "X_train,X_test,y_train,y_test = train_test_split(X,y,test_size = 0.2)\n",
    "lr = LogisticRegression()\n",
    "model = lr.fit(X_train,y_train)\n",
    "y_pred1 = lr.predict(X_test)\n",
    "print(classification_report(y_test, y_pred1))"
   ]
  },
  {
   "cell_type": "code",
   "execution_count": 51,
   "metadata": {},
   "outputs": [
    {
     "name": "stdout",
     "output_type": "stream",
     "text": [
      "             precision    recall  f1-score   support\n",
      "\n",
      "        Buy       0.00      0.00      0.00         8\n",
      "   Hold Buy       0.57      0.69      0.62        49\n",
      " Hold Short       0.49      0.50      0.49        36\n",
      "      Short       0.00      0.00      0.00         4\n",
      "\n",
      "avg / total       0.47      0.54      0.50        97\n",
      "\n"
     ]
    }
   ],
   "source": [
    "# Naive Bayes\n",
    "from sklearn.naive_bayes import GaussianNB \n",
    "nb = GaussianNB()\n",
    "nb.fit(X_train,y_train)\n",
    "y_pred2 = nb.predict(X_test)\n",
    "print(classification_report(y_test, y_pred2))"
   ]
  },
  {
   "cell_type": "code",
   "execution_count": 52,
   "metadata": {},
   "outputs": [
    {
     "name": "stdout",
     "output_type": "stream",
     "text": [
      "             precision    recall  f1-score   support\n",
      "\n",
      "        Buy       0.00      0.00      0.00         8\n",
      "   Hold Buy       0.00      0.00      0.00        49\n",
      " Hold Short       0.37      1.00      0.54        36\n",
      "      Short       0.00      0.00      0.00         4\n",
      "\n",
      "avg / total       0.14      0.37      0.20        97\n",
      "\n"
     ]
    }
   ],
   "source": [
    "# Stochastic Gradient Descent \n",
    "from sklearn.linear_model import SGDClassifier\n",
    "sgd = SGDClassifier()\n",
    "sgd.fit(X_train,y_train)\n",
    "y_pred3 = sgd.predict(X_test)\n",
    "print(classification_report(y_test, y_pred3))\n"
   ]
  },
  {
   "cell_type": "code",
   "execution_count": 53,
   "metadata": {},
   "outputs": [
    {
     "name": "stdout",
     "output_type": "stream",
     "text": [
      "             precision    recall  f1-score   support\n",
      "\n",
      "        Buy       0.00      0.00      0.00         8\n",
      "   Hold Buy       0.81      0.98      0.89        49\n",
      " Hold Short       0.87      0.92      0.89        36\n",
      "      Short       0.00      0.00      0.00         4\n",
      "\n",
      "avg / total       0.73      0.84      0.78        97\n",
      "\n"
     ]
    }
   ],
   "source": [
    "# k-nearest neighbour\n",
    "from sklearn.neighbors import KNeighborsClassifier\n",
    "knn = KNeighborsClassifier(n_neighbors = 15)\n",
    "knn.fit(X_train,y_train)\n",
    "y_pred4 = knn.predict(X_test)\n",
    "print(classification_report(y_test, y_pred4))\n"
   ]
  },
  {
   "cell_type": "code",
   "execution_count": 54,
   "metadata": {},
   "outputs": [
    {
     "name": "stdout",
     "output_type": "stream",
     "text": [
      "             precision    recall  f1-score   support\n",
      "\n",
      "        Buy       0.50      0.62      0.56         8\n",
      "   Hold Buy       0.88      0.71      0.79        49\n",
      " Hold Short       0.74      0.89      0.81        36\n",
      "      Short       0.00      0.00      0.00         4\n",
      "\n",
      "avg / total       0.76      0.74      0.74        97\n",
      "\n"
     ]
    }
   ],
   "source": [
    "# decision tree\n",
    "from sklearn.tree import DecisionTreeClassifier\n",
    "dtree = DecisionTreeClassifier(max_depth = 10,random_state = 101)\n",
    "dtree.fit(X_train,y_train)\n",
    "y_pred5 = dtree.predict(X_test)\n",
    "print(classification_report(y_test, y_pred5))"
   ]
  },
  {
   "cell_type": "code",
   "execution_count": 55,
   "metadata": {},
   "outputs": [
    {
     "name": "stdout",
     "output_type": "stream",
     "text": [
      "             precision    recall  f1-score   support\n",
      "\n",
      "        Buy       1.00      1.00      1.00         8\n",
      "   Hold Buy       1.00      1.00      1.00        49\n",
      " Hold Short       0.97      1.00      0.99        36\n",
      "      Short       1.00      0.75      0.86         4\n",
      "\n",
      "avg / total       0.99      0.99      0.99        97\n",
      "\n"
     ]
    }
   ],
   "source": [
    "# support vector machine\n",
    "from sklearn.svm import SVC\n",
    "svm = SVC(kernel = \"linear\", C = 0.025, random_state = 101)\n",
    "svm.fit(X_train,y_train)\n",
    "y_pred6 = svm.predict(X_test)\n",
    "print(classification_report(y_test, y_pred6))\n"
   ]
  },
  {
   "cell_type": "code",
   "execution_count": 56,
   "metadata": {},
   "outputs": [
    {
     "name": "stdout",
     "output_type": "stream",
     "text": [
      "             precision    recall  f1-score   support\n",
      "\n",
      "        Buy       0.50      0.12      0.20         8\n",
      "   Hold Buy       0.77      0.90      0.83        49\n",
      " Hold Short       0.78      0.78      0.78        36\n",
      "      Short       0.00      0.00      0.00         4\n",
      "\n",
      "avg / total       0.72      0.75      0.72        97\n",
      "\n"
     ]
    }
   ],
   "source": [
    "from sklearn.ensemble import RandomForestClassifier\n",
    "classifier = RandomForestClassifier(n_estimators = 10, criterion = 'entropy', random_state = 0)\n",
    "classifier.fit(X_train, y_train)\n",
    "y_pred7 = classifier.predict(X_test)\n",
    "print(classification_report(y_test, y_pred7))\n"
   ]
  },
  {
   "cell_type": "code",
   "execution_count": 68,
   "metadata": {},
   "outputs": [
    {
     "name": "stdout",
     "output_type": "stream",
     "text": [
      "             0\n",
      "0     Hold Buy\n",
      "1     Hold Buy\n",
      "2     Hold Buy\n",
      "3   Hold Short\n",
      "4   Hold Short\n",
      "5     Hold Buy\n",
      "6     Hold Buy\n",
      "7     Hold Buy\n",
      "8     Hold Buy\n",
      "9   Hold Short\n",
      "10    Hold Buy\n",
      "11    Hold Buy\n",
      "12    Hold Buy\n",
      "13  Hold Short\n",
      "14    Hold Buy\n",
      "15  Hold Short\n",
      "16  Hold Short\n",
      "17  Hold Short\n",
      "18    Hold Buy\n",
      "19  Hold Short\n",
      "20    Hold Buy\n",
      "21    Hold Buy\n",
      "22    Hold Buy\n",
      "23         Buy\n",
      "24    Hold Buy\n",
      "25    Hold Buy\n",
      "26    Hold Buy\n",
      "27  Hold Short\n",
      "28  Hold Short\n",
      "29    Hold Buy\n",
      "..         ...\n",
      "67  Hold Short\n",
      "68  Hold Short\n",
      "69    Hold Buy\n",
      "70  Hold Short\n",
      "71  Hold Short\n",
      "72    Hold Buy\n",
      "73    Hold Buy\n",
      "74    Hold Buy\n",
      "75  Hold Short\n",
      "76    Hold Buy\n",
      "77  Hold Short\n",
      "78  Hold Short\n",
      "79  Hold Short\n",
      "80  Hold Short\n",
      "81  Hold Short\n",
      "82  Hold Short\n",
      "83    Hold Buy\n",
      "84    Hold Buy\n",
      "85  Hold Short\n",
      "86  Hold Short\n",
      "87  Hold Short\n",
      "88  Hold Short\n",
      "89  Hold Short\n",
      "90    Hold Buy\n",
      "91  Hold Short\n",
      "92    Hold Buy\n",
      "93    Hold Buy\n",
      "94  Hold Short\n",
      "95    Hold Buy\n",
      "96    Hold Buy\n",
      "\n",
      "[97 rows x 1 columns]\n"
     ]
    }
   ],
   "source": [
    "data = pd.read_csv(\"FORTIS.csv\")\n",
    "data[\"Middle Bollinger\"] = data[\"Close Price\"].rolling(14).mean() \n",
    "data[\"Lower Bollinger\"] = data[\"Close Price\"].rolling(14).mean()-(2*data[\"Close Price\"].rolling(14).std())\n",
    "data[\"Upper Bollinger\"] = data[\"Close Price\"].rolling(14).mean()+(2*data[\"Close Price\"].rolling(14).std())\n",
    "new = data.dropna()\n",
    "new.loc[(new[\"Close Price\"] < new[\"Lower Bollinger\"]),\"Call\"] = \"Buy\"\n",
    "new.loc[(new[\"Close Price\"] > new[\"Lower Bollinger\"]) & (new[\"Close Price\"] < new[\"Middle Bollinger\"]),\"Call\"] = \"Hold Buy\"\n",
    "new.loc[(new[\"Close Price\"] > new[\"Middle Bollinger\"]) & (new[\"Close Price\"] < new[\"Upper Bollinger\"]),\"Call\"] = \"Hold Short\"\n",
    "new.loc[(new[\"Close Price\"] > new[\"Upper Bollinger\"]),\"Call\"] = \"Short\"\n",
    "X = new[[\"Close Price\",\"Lower Bollinger\",\"Middle Bollinger\",\"Upper Bollinger\"]]\n",
    "y = new[\"Call\"]\n",
    "X_train,X_test,y_train,y_test = train_test_split(X,y,test_size = 0.2)\n",
    "from sklearn.svm import SVC\n",
    "svm = SVC(kernel = \"linear\", C = 0.025, random_state = 101)\n",
    "svm.fit(X_train,y_train)\n",
    "y_pred8 = svm.predict(X_test)\n",
    "ndf = pd.DataFrame(y_pred8)\n",
    "print(ndf)\n",
    "\n",
    "\n"
   ]
  },
  {
   "cell_type": "code",
   "execution_count": 58,
   "metadata": {},
   "outputs": [],
   "source": [
    "### Question 2"
   ]
  },
  {
   "cell_type": "code",
   "execution_count": 2,
   "metadata": {},
   "outputs": [
    {
     "name": "stdout",
     "output_type": "stream",
     "text": [
      "             precision    recall  f1-score   support\n",
      "\n",
      "       -1.0       0.00      0.00      0.00        43\n",
      "        1.0       0.56      1.00      0.72        55\n",
      "\n",
      "avg / total       0.31      0.56      0.40        98\n",
      "\n"
     ]
    },
    {
     "name": "stderr",
     "output_type": "stream",
     "text": [
      "/opt/anaconda/lib/python3.6/site-packages/sklearn/metrics/classification.py:1135: UndefinedMetricWarning: Precision and F-score are ill-defined and being set to 0.0 in labels with no predicted samples.\n",
      "  'precision', 'predicted', average, warn_for)\n"
     ]
    }
   ],
   "source": [
    "import pandas as pd\n",
    "import numpy as np\n",
    "df = pd.read_csv(\"PVR.csv\")\n",
    "df[\"%O\"] = df[\"Open Price\"].pct_change()\n",
    "df[\"%C\"] = df[\"Close Price\"].pct_change()\n",
    "df[\"OC\"] = df[\"%O\"]-df[\"%C\"]\n",
    "df[\"%L\"] = df[\"Low Price\"].pct_change()\n",
    "df[\"%H\"] = df[\"High Price\"].pct_change()\n",
    "df[\"LH\"] = df[\"%L\"]-df[\"%H\"]\n",
    "df[\"Avg5\"] = (df[\"Close Price\"].pct_change()).rolling(5).mean()\n",
    "df[\"Std5\"] = (df[\"Close Price\"].pct_change()).rolling(5).std()\n",
    "df1 = df.dropna()\n",
    "df2 = df1.rename(columns = {\"Close Price\":\"Close\"}) \n",
    "data = pd.DataFrame(df2,columns=['Close','Avg5','Std5',\"OC\",\"LH\"])\n",
    "data['N'] = data[\"Close\"].shift(-1).fillna(0)\n",
    "data['Action'] = np.nan\n",
    "for index, row in data.iterrows():\n",
    "    if (row.Close > row.N):\n",
    "        data.at[index, 'Action'] = -1\n",
    "    else:\n",
    "        data.at[index, 'Action'] = 1\n",
    "from sklearn.linear_model import LogisticRegression\n",
    "from sklearn.model_selection import train_test_split\n",
    "X = data[['Avg5','Std5',\"OC\",\"LH\"]]\n",
    "y = data[\"Action\"]\n",
    "X_train,X_test,y_train,y_test = train_test_split(X,y,test_size = 0.2)\n",
    "lr = LogisticRegression()\n",
    "model = lr.fit(X_train,y_train)\n",
    "y_predicted = lr.predict(X_test)\n",
    "from sklearn.metrics import classification_report\n",
    "print(classification_report(y_test, y_predicted))\n"
   ]
  },
  {
   "cell_type": "code",
   "execution_count": 31,
   "metadata": {},
   "outputs": [
    {
     "data": {
      "image/png": "[encoded data removed]",
      "text/plain": [
       "<Figure size 1440x720 with 1 Axes>"
      ]
     },
     "metadata": {},
     "output_type": "display_data"
    }
   ],
   "source": [
    "import matplotlib.pyplot as plt\n",
    "%matplotlib inline\n",
    "df[\"Close1\"] = df[\"Close Price\"]\n",
    "df[\"Close2\"] = df[\"Close Price\"].shift(1).fillna(0)\n",
    "df[\"Close%\"] = (df[\"Close1\"]-df[\"Close2\"])\n",
    "dff = df.dropna()\n",
    "fig = plt.figure(figsize = (20,10))\n",
    "a = dff[\"Close%\"].rolling(400).mean()\n",
    "b = dff[\"Close Price\"].rolling(400).mean()\n",
    "plt.plot(b,a)\n",
    "plt.xlabel(\"Close Price\")\n",
    "plt.ylabel(\"Strategy return%\")\n",
    "plt.show()\n"
   ]
  },
  {
   "cell_type": "code",
   "execution_count": null,
   "metadata": {},
   "outputs": [],
   "source": []
  }
 ],
 "metadata": {
  "kernelspec": {
   "display_name": "Python 3",
   "language": "python",
   "name": "python3"
  },
  "language_info": {
   "codemirror_mode": {
    "name": "ipython",
    "version": 3
   },
   "file_extension": ".py",
   "mimetype": "text/x-python",
   "name": "python",
   "nbconvert_exporter": "python",
   "pygments_lexer": "ipython3",
   "version": "3.6.5"
  }
 },
 "nbformat": 4,
 "nbformat_minor": 2
}
